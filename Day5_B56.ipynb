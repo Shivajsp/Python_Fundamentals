{
 "cells": [
  {
   "cell_type": "code",
   "execution_count": null,
   "id": "786ccaa5",
   "metadata": {},
   "outputs": [],
   "source": [
    "Organising the list datatype"
   ]
  },
  {
   "cell_type": "code",
   "execution_count": 2,
   "id": "7004b756",
   "metadata": {},
   "outputs": [],
   "source": [
    "cars = ['benz','audi','bmw','tesla','ciaz','toyota','maruti']"
   ]
  },
  {
   "cell_type": "code",
   "execution_count": 3,
   "id": "780cb70c",
   "metadata": {},
   "outputs": [
    {
     "name": "stdout",
     "output_type": "stream",
     "text": [
      "['benz', 'audi', 'bmw', 'tesla', 'ciaz', 'toyota', 'maruti']\n"
     ]
    }
   ],
   "source": [
    "print(cars)"
   ]
  },
  {
   "cell_type": "code",
   "execution_count": null,
   "id": "012fa513",
   "metadata": {},
   "outputs": [],
   "source": [
    "Requirement: I want to get the above data in A-Z alphabetical order\n",
    "    There are two approaches to achive this,\n",
    "    1)Temporary approach\n",
    "    2)Permanent approach\n",
    "    \n",
    "    Temporary approach -->sorted-->we can get original order\n",
    "    Permanent approach -->sort-->changes are applicable permanently"
   ]
  },
  {
   "cell_type": "code",
   "execution_count": null,
   "id": "6a167240",
   "metadata": {},
   "outputs": [],
   "source": [
    "Temporary approach"
   ]
  },
  {
   "cell_type": "code",
   "execution_count": 4,
   "id": "9efac5bf",
   "metadata": {},
   "outputs": [
    {
     "name": "stdout",
     "output_type": "stream",
     "text": [
      "['audi', 'benz', 'bmw', 'ciaz', 'maruti', 'tesla', 'toyota']\n"
     ]
    }
   ],
   "source": [
    "print(sorted(cars))"
   ]
  },
  {
   "cell_type": "code",
   "execution_count": 5,
   "id": "716df8df",
   "metadata": {},
   "outputs": [
    {
     "name": "stdout",
     "output_type": "stream",
     "text": [
      "['benz', 'audi', 'bmw', 'tesla', 'ciaz', 'toyota', 'maruti']\n"
     ]
    }
   ],
   "source": [
    "print(cars)"
   ]
  },
  {
   "cell_type": "code",
   "execution_count": null,
   "id": "ec2459e5",
   "metadata": {},
   "outputs": [],
   "source": [
    "Permanent approach"
   ]
  },
  {
   "cell_type": "code",
   "execution_count": 6,
   "id": "fffa3585",
   "metadata": {},
   "outputs": [],
   "source": [
    "cars.sort()"
   ]
  },
  {
   "cell_type": "code",
   "execution_count": 7,
   "id": "7127efc0",
   "metadata": {},
   "outputs": [
    {
     "name": "stdout",
     "output_type": "stream",
     "text": [
      "['audi', 'benz', 'bmw', 'ciaz', 'maruti', 'tesla', 'toyota']\n"
     ]
    }
   ],
   "source": [
    "print(cars)"
   ]
  },
  {
   "cell_type": "code",
   "execution_count": null,
   "id": "57852436",
   "metadata": {},
   "outputs": [],
   "source": [
    "I want to print the data in reverse order"
   ]
  },
  {
   "cell_type": "code",
   "execution_count": 8,
   "id": "d338b5bc",
   "metadata": {},
   "outputs": [
    {
     "name": "stdout",
     "output_type": "stream",
     "text": [
      "['audi', 'benz', 'bmw', 'ciaz', 'maruti', 'tesla', 'toyota']\n"
     ]
    }
   ],
   "source": [
    "print(cars)"
   ]
  },
  {
   "cell_type": "code",
   "execution_count": 9,
   "id": "eef88555",
   "metadata": {},
   "outputs": [],
   "source": [
    "cars.reverse()"
   ]
  },
  {
   "cell_type": "code",
   "execution_count": 10,
   "id": "4b6e6ae3",
   "metadata": {},
   "outputs": [
    {
     "name": "stdout",
     "output_type": "stream",
     "text": [
      "['toyota', 'tesla', 'maruti', 'ciaz', 'bmw', 'benz', 'audi']\n"
     ]
    }
   ],
   "source": [
    "print(cars)"
   ]
  },
  {
   "cell_type": "code",
   "execution_count": null,
   "id": "9f400297",
   "metadata": {},
   "outputs": [],
   "source": [
    "Requirement: I want to know the no of elements or count of elements in the list"
   ]
  },
  {
   "cell_type": "code",
   "execution_count": 11,
   "id": "949c4bc5",
   "metadata": {},
   "outputs": [
    {
     "data": {
      "text/plain": [
       "7"
      ]
     },
     "execution_count": 11,
     "metadata": {},
     "output_type": "execute_result"
    }
   ],
   "source": [
    "len(cars)"
   ]
  },
  {
   "cell_type": "code",
   "execution_count": null,
   "id": "3f78fc62",
   "metadata": {},
   "outputs": [],
   "source": []
  },
  {
   "cell_type": "code",
   "execution_count": null,
   "id": "332e2dfe",
   "metadata": {},
   "outputs": [],
   "source": [
    "Introduction to slicing of list"
   ]
  },
  {
   "cell_type": "code",
   "execution_count": 12,
   "id": "349aac07",
   "metadata": {},
   "outputs": [],
   "source": [
    "students = ['kiran','rinta','karanveer','shradha','guruprasad','srinivas','bilal','arbar']"
   ]
  },
  {
   "cell_type": "code",
   "execution_count": 13,
   "id": "8cb7f649",
   "metadata": {},
   "outputs": [
    {
     "name": "stdout",
     "output_type": "stream",
     "text": [
      "['kiran', 'rinta', 'karanveer', 'shradha', 'guruprasad', 'srinivas', 'bilal', 'arbar']\n"
     ]
    }
   ],
   "source": [
    "print(students)"
   ]
  },
  {
   "cell_type": "code",
   "execution_count": null,
   "id": "e0abd0fb",
   "metadata": {},
   "outputs": [],
   "source": [
    "General syntax of slicing\n",
    "[start value:stop value:step count]\n",
    "Note1: stop value is always exclusive and will not be consideded as slice\n",
    "Note2: To include the stop value increment the index by +1\n"
   ]
  },
  {
   "cell_type": "code",
   "execution_count": null,
   "id": "726d67af",
   "metadata": {},
   "outputs": [],
   "source": [
    "Requirement: I want to get kiran and rinta in the slice"
   ]
  },
  {
   "cell_type": "code",
   "execution_count": 14,
   "id": "9838dc00",
   "metadata": {},
   "outputs": [
    {
     "name": "stdout",
     "output_type": "stream",
     "text": [
      "['kiran']\n"
     ]
    }
   ],
   "source": [
    "print(students[0:1])"
   ]
  },
  {
   "cell_type": "code",
   "execution_count": 15,
   "id": "bfe92f49",
   "metadata": {},
   "outputs": [
    {
     "name": "stdout",
     "output_type": "stream",
     "text": [
      "['kiran', 'rinta']\n"
     ]
    }
   ],
   "source": [
    "print(students[0:2])"
   ]
  },
  {
   "cell_type": "code",
   "execution_count": null,
   "id": "15d02d1d",
   "metadata": {},
   "outputs": [],
   "source": [
    "Requirement:I want to get karanveer and shradha in the slice"
   ]
  },
  {
   "cell_type": "code",
   "execution_count": 16,
   "id": "73fae005",
   "metadata": {},
   "outputs": [
    {
     "name": "stdout",
     "output_type": "stream",
     "text": [
      "['karanveer', 'shradha']\n"
     ]
    }
   ],
   "source": [
    "print(students[2:4])"
   ]
  },
  {
   "cell_type": "code",
   "execution_count": 17,
   "id": "395c38aa",
   "metadata": {},
   "outputs": [
    {
     "name": "stdout",
     "output_type": "stream",
     "text": [
      "['guruprasad', 'srinivas']\n"
     ]
    }
   ],
   "source": [
    "print(students[4:6])"
   ]
  },
  {
   "cell_type": "code",
   "execution_count": 18,
   "id": "ddced836",
   "metadata": {},
   "outputs": [
    {
     "name": "stdout",
     "output_type": "stream",
     "text": [
      "['bilal', 'arbar']\n"
     ]
    }
   ],
   "source": [
    "print(students[6:8])"
   ]
  },
  {
   "cell_type": "code",
   "execution_count": 19,
   "id": "767d3013",
   "metadata": {},
   "outputs": [
    {
     "name": "stdout",
     "output_type": "stream",
     "text": [
      "['kiran', 'rinta', 'karanveer', 'shradha', 'guruprasad', 'srinivas', 'bilal', 'arbar']\n"
     ]
    }
   ],
   "source": [
    "print(students)"
   ]
  },
  {
   "cell_type": "code",
   "execution_count": 20,
   "id": "03df83f5",
   "metadata": {},
   "outputs": [
    {
     "name": "stdout",
     "output_type": "stream",
     "text": [
      "['kiran', 'karanveer', 'guruprasad', 'bilal']\n"
     ]
    }
   ],
   "source": [
    "print(students[0:8:2])"
   ]
  },
  {
   "cell_type": "code",
   "execution_count": null,
   "id": "7878779f",
   "metadata": {},
   "outputs": [],
   "source": []
  },
  {
   "cell_type": "code",
   "execution_count": null,
   "id": "d2fcb614",
   "metadata": {},
   "outputs": [],
   "source": []
  },
  {
   "cell_type": "code",
   "execution_count": null,
   "id": "4b874ea9",
   "metadata": {},
   "outputs": [],
   "source": []
  },
  {
   "cell_type": "code",
   "execution_count": null,
   "id": "9858f6e1",
   "metadata": {},
   "outputs": [],
   "source": []
  },
  {
   "cell_type": "code",
   "execution_count": null,
   "id": "499a7e4c",
   "metadata": {},
   "outputs": [],
   "source": []
  }
 ],
 "metadata": {
  "kernelspec": {
   "display_name": "Python 3 (ipykernel)",
   "language": "python",
   "name": "python3"
  },
  "language_info": {
   "codemirror_mode": {
    "name": "ipython",
    "version": 3
   },
   "file_extension": ".py",
   "mimetype": "text/x-python",
   "name": "python",
   "nbconvert_exporter": "python",
   "pygments_lexer": "ipython3",
   "version": "3.9.7"
  }
 },
 "nbformat": 4,
 "nbformat_minor": 5
}
