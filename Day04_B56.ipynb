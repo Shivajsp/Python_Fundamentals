{
 "cells": [
  {
   "cell_type": "code",
   "execution_count": null,
   "id": "f2b217d8",
   "metadata": {},
   "outputs": [],
   "source": [
    "#Introduction to list datatype"
   ]
  },
  {
   "cell_type": "code",
   "execution_count": null,
   "id": "03992a9b",
   "metadata": {},
   "outputs": [],
   "source": [
    "#Definition: A list is a collection of items definedin a particular order "
   ]
  },
  {
   "cell_type": "code",
   "execution_count": null,
   "id": "ca56282e",
   "metadata": {},
   "outputs": [],
   "source": [
    "#Classification: It is classified as mutable(we can edit/alter) datatype"
   ]
  },
  {
   "cell_type": "code",
   "execution_count": null,
   "id": "af86a9e4",
   "metadata": {},
   "outputs": [],
   "source": [
    "#How to declare/define the list         list--------> []"
   ]
  },
  {
   "cell_type": "code",
   "execution_count": 7,
   "id": "1756ac01",
   "metadata": {},
   "outputs": [],
   "source": [
    "students = ['simran','tasleen','nihar','ravi','kumar','abdur']"
   ]
  },
  {
   "cell_type": "code",
   "execution_count": 8,
   "id": "4ab26cdc",
   "metadata": {},
   "outputs": [
    {
     "name": "stdout",
     "output_type": "stream",
     "text": [
      "['simran', 'tasleen', 'nihar', 'ravi', 'kumar', 'abdur']\n"
     ]
    }
   ],
   "source": [
    "print(students)"
   ]
  },
  {
   "cell_type": "code",
   "execution_count": 9,
   "id": "38e6089f",
   "metadata": {},
   "outputs": [
    {
     "data": {
      "text/plain": [
       "list"
      ]
     },
     "execution_count": 9,
     "metadata": {},
     "output_type": "execute_result"
    }
   ],
   "source": [
    "type(students)"
   ]
  },
  {
   "cell_type": "code",
   "execution_count": 4,
   "id": "e109ac71",
   "metadata": {},
   "outputs": [],
   "source": [
    "#Introduction to indexing:    0,1,2...........n"
   ]
  },
  {
   "cell_type": "code",
   "execution_count": 5,
   "id": "ffdc6cdd",
   "metadata": {},
   "outputs": [],
   "source": [
    "#Requirement: I want to acess ravi's name from the above list"
   ]
  },
  {
   "cell_type": "code",
   "execution_count": 14,
   "id": "e18913e9",
   "metadata": {},
   "outputs": [
    {
     "ename": "TypeError",
     "evalue": "'list' object is not callable",
     "output_type": "error",
     "traceback": [
      "\u001b[1;31m---------------------------------------------------------------------------\u001b[0m",
      "\u001b[1;31mTypeError\u001b[0m                                 Traceback (most recent call last)",
      "\u001b[1;32mC:\\Users\\SURIBA~1\\AppData\\Local\\Temp/ipykernel_4872/2693238038.py\u001b[0m in \u001b[0;36m<module>\u001b[1;34m\u001b[0m\n\u001b[1;32m----> 1\u001b[1;33m \u001b[0mprint\u001b[0m\u001b[1;33m(\u001b[0m\u001b[0mstudents\u001b[0m\u001b[1;33m(\u001b[0m\u001b[1;36m3\u001b[0m\u001b[1;33m)\u001b[0m\u001b[1;33m)\u001b[0m\u001b[1;33m\u001b[0m\u001b[1;33m\u001b[0m\u001b[0m\n\u001b[0m",
      "\u001b[1;31mTypeError\u001b[0m: 'list' object is not callable"
     ]
    }
   ],
   "source": [
    "print(students(3))"
   ]
  },
  {
   "cell_type": "code",
   "execution_count": 13,
   "id": "0442d4ae",
   "metadata": {},
   "outputs": [
    {
     "name": "stdout",
     "output_type": "stream",
     "text": [
      "['simran', 'tasleen', 'nihar', 'ravi', 'kumar', 'abdur']\n"
     ]
    }
   ],
   "source": [
    "print(students)"
   ]
  },
  {
   "cell_type": "code",
   "execution_count": 16,
   "id": "37c6a794",
   "metadata": {},
   "outputs": [
    {
     "ename": "SyntaxError",
     "evalue": "invalid syntax (Temp/ipykernel_4872/3513521431.py, line 1)",
     "output_type": "error",
     "traceback": [
      "\u001b[1;36m  File \u001b[1;32m\"C:\\Users\\SURIBA~1\\AppData\\Local\\Temp/ipykernel_4872/3513521431.py\"\u001b[1;36m, line \u001b[1;32m1\u001b[0m\n\u001b[1;33m    1. how to add new elements to the list\u001b[0m\n\u001b[1;37m       ^\u001b[0m\n\u001b[1;31mSyntaxError\u001b[0m\u001b[1;31m:\u001b[0m invalid syntax\n"
     ]
    }
   ],
   "source": [
    "1. how to add new elements to the list\n",
    "2. how to modify the elements in list\n",
    "3. how to delete the element in list"
   ]
  },
  {
   "cell_type": "code",
   "execution_count": null,
   "id": "b5885e0a",
   "metadata": {},
   "outputs": [],
   "source": [
    "Requirement: I want to add shradha to the above list"
   ]
  },
  {
   "cell_type": "code",
   "execution_count": 17,
   "id": "92740cc7",
   "metadata": {},
   "outputs": [],
   "source": [
    "students.append('shradha')"
   ]
  },
  {
   "cell_type": "code",
   "execution_count": 19,
   "id": "64e9c8e3",
   "metadata": {},
   "outputs": [
    {
     "name": "stdout",
     "output_type": "stream",
     "text": [
      "['simran', 'tasleen', 'nihar', 'ravi', 'kumar', 'abdur', 'shradha']\n"
     ]
    }
   ],
   "source": [
    "print(students)"
   ]
  },
  {
   "cell_type": "code",
   "execution_count": 20,
   "id": "bece8c9d",
   "metadata": {},
   "outputs": [],
   "source": [
    "students.append('shiva')"
   ]
  },
  {
   "cell_type": "code",
   "execution_count": 21,
   "id": "b1af1ff9",
   "metadata": {},
   "outputs": [
    {
     "name": "stdout",
     "output_type": "stream",
     "text": [
      "['simran', 'tasleen', 'nihar', 'ravi', 'kumar', 'abdur', 'shradha', 'shiva']\n"
     ]
    }
   ],
   "source": [
    "print(students)"
   ]
  },
  {
   "cell_type": "code",
   "execution_count": null,
   "id": "8a5579a5",
   "metadata": {},
   "outputs": [],
   "source": [
    "Requirement: How to modify element in list"
   ]
  },
  {
   "cell_type": "code",
   "execution_count": 22,
   "id": "a944bf51",
   "metadata": {},
   "outputs": [
    {
     "name": "stdout",
     "output_type": "stream",
     "text": [
      "['simran', 'tasleen', 'nihar', 'ravi', 'kumar', 'abdur', 'shradha', 'shiva']\n"
     ]
    }
   ],
   "source": [
    "print(students)"
   ]
  },
  {
   "cell_type": "code",
   "execution_count": null,
   "id": "1df8c499",
   "metadata": {},
   "outputs": [],
   "source": [
    "I want to modify ravi name to prasad"
   ]
  },
  {
   "cell_type": "code",
   "execution_count": 23,
   "id": "6ce4116c",
   "metadata": {},
   "outputs": [
    {
     "ename": "TypeError",
     "evalue": "'list' object is not callable",
     "output_type": "error",
     "traceback": [
      "\u001b[1;31m---------------------------------------------------------------------------\u001b[0m",
      "\u001b[1;31mTypeError\u001b[0m                                 Traceback (most recent call last)",
      "\u001b[1;32mC:\\Users\\SURIBA~1\\AppData\\Local\\Temp/ipykernel_4872/109223149.py\u001b[0m in \u001b[0;36m<module>\u001b[1;34m\u001b[0m\n\u001b[1;32m----> 1\u001b[1;33m \u001b[0mprint\u001b[0m\u001b[1;33m(\u001b[0m\u001b[0mstudents\u001b[0m\u001b[1;33m(\u001b[0m\u001b[1;36m4\u001b[0m\u001b[1;33m)\u001b[0m\u001b[1;33m)\u001b[0m\u001b[1;33m\u001b[0m\u001b[1;33m\u001b[0m\u001b[0m\n\u001b[0m",
      "\u001b[1;31mTypeError\u001b[0m: 'list' object is not callable"
     ]
    }
   ],
   "source": [
    "print(students(4))"
   ]
  },
  {
   "cell_type": "code",
   "execution_count": 24,
   "id": "386f5d16",
   "metadata": {},
   "outputs": [],
   "source": [
    "students[4]='prasad'"
   ]
  },
  {
   "cell_type": "code",
   "execution_count": 26,
   "id": "ddcf3d99",
   "metadata": {},
   "outputs": [
    {
     "name": "stdout",
     "output_type": "stream",
     "text": [
      "['simran', 'tasleen', 'nihar', 'ravi', 'prasad', 'abdur', 'shradha', 'shiva']\n"
     ]
    }
   ],
   "source": [
    "print(students)"
   ]
  },
  {
   "cell_type": "code",
   "execution_count": 27,
   "id": "c2af4641",
   "metadata": {},
   "outputs": [
    {
     "ename": "TypeError",
     "evalue": "'list' object is not callable",
     "output_type": "error",
     "traceback": [
      "\u001b[1;31m---------------------------------------------------------------------------\u001b[0m",
      "\u001b[1;31mTypeError\u001b[0m                                 Traceback (most recent call last)",
      "\u001b[1;32mC:\\Users\\SURIBA~1\\AppData\\Local\\Temp/ipykernel_4872/109223149.py\u001b[0m in \u001b[0;36m<module>\u001b[1;34m\u001b[0m\n\u001b[1;32m----> 1\u001b[1;33m \u001b[0mprint\u001b[0m\u001b[1;33m(\u001b[0m\u001b[0mstudents\u001b[0m\u001b[1;33m(\u001b[0m\u001b[1;36m4\u001b[0m\u001b[1;33m)\u001b[0m\u001b[1;33m)\u001b[0m\u001b[1;33m\u001b[0m\u001b[1;33m\u001b[0m\u001b[0m\n\u001b[0m",
      "\u001b[1;31mTypeError\u001b[0m: 'list' object is not callable"
     ]
    }
   ],
   "source": [
    "print(students(4))"
   ]
  },
  {
   "cell_type": "code",
   "execution_count": null,
   "id": "928df6f9",
   "metadata": {},
   "outputs": [],
   "source": [
    "I want to delete name from list"
   ]
  },
  {
   "cell_type": "code",
   "execution_count": 28,
   "id": "245ddfdf",
   "metadata": {},
   "outputs": [],
   "source": [
    "del students[4]"
   ]
  },
  {
   "cell_type": "code",
   "execution_count": 29,
   "id": "d558435a",
   "metadata": {},
   "outputs": [
    {
     "name": "stdout",
     "output_type": "stream",
     "text": [
      "['simran', 'tasleen', 'nihar', 'ravi', 'abdur', 'shradha', 'shiva']\n"
     ]
    }
   ],
   "source": [
    "print(students)"
   ]
  },
  {
   "cell_type": "code",
   "execution_count": null,
   "id": "b3c107c5",
   "metadata": {},
   "outputs": [],
   "source": []
  },
  {
   "cell_type": "code",
   "execution_count": null,
   "id": "ad4b4a75",
   "metadata": {},
   "outputs": [],
   "source": []
  },
  {
   "cell_type": "code",
   "execution_count": null,
   "id": "fd04f58c",
   "metadata": {},
   "outputs": [],
   "source": []
  },
  {
   "cell_type": "code",
   "execution_count": null,
   "id": "16b647cd",
   "metadata": {},
   "outputs": [],
   "source": []
  },
  {
   "cell_type": "code",
   "execution_count": null,
   "id": "208f81f3",
   "metadata": {},
   "outputs": [],
   "source": []
  },
  {
   "cell_type": "code",
   "execution_count": null,
   "id": "c44c8c8b",
   "metadata": {},
   "outputs": [],
   "source": []
  }
 ],
 "metadata": {
  "kernelspec": {
   "display_name": "Python 3 (ipykernel)",
   "language": "python",
   "name": "python3"
  },
  "language_info": {
   "codemirror_mode": {
    "name": "ipython",
    "version": 3
   },
   "file_extension": ".py",
   "mimetype": "text/x-python",
   "name": "python",
   "nbconvert_exporter": "python",
   "pygments_lexer": "ipython3",
   "version": "3.9.7"
  }
 },
 "nbformat": 4,
 "nbformat_minor": 5
}
