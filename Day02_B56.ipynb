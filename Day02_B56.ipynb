{
 "cells": [
  {
   "cell_type": "markdown",
   "id": "b7f18b11",
   "metadata": {},
   "source": []
  },
  {
   "cell_type": "code",
   "execution_count": 1,
   "id": "eee8f95d",
   "metadata": {},
   "outputs": [],
   "source": [
    "#Getting started with Python Programming"
   ]
  },
  {
   "cell_type": "code",
   "execution_count": 2,
   "id": "24d03714",
   "metadata": {},
   "outputs": [],
   "source": [
    "#1. Understanding of variables in python."
   ]
  },
  {
   "cell_type": "code",
   "execution_count": 7,
   "id": "26852712",
   "metadata": {},
   "outputs": [
    {
     "name": "stdout",
     "output_type": "stream",
     "text": [
      "5\n"
     ]
    }
   ],
   "source": [
    "x=3\n",
    "y=2\n",
    "print(x+y)"
   ]
  },
  {
   "cell_type": "code",
   "execution_count": 8,
   "id": "f346342f",
   "metadata": {},
   "outputs": [],
   "source": [
    "# Rules for declaring variables"
   ]
  },
  {
   "cell_type": "code",
   "execution_count": 10,
   "id": "6acd3d4e",
   "metadata": {},
   "outputs": [],
   "source": [
    "#Rule no 1: No name spaces while declaring variable name Ex: first name = 'shiva' wrong   firstname='shiva' correct\n",
    "#Rule no 2: A variable name should not start with a number Ex: 1name = 'shiva' wrong    name1 = 'shiva' correct\n",
    "#Rule no 3: A variable name should not contain any specoal characters in it."
   ]
  },
  {
   "cell_type": "code",
   "execution_count": null,
   "id": "e8e553d6",
   "metadata": {},
   "outputs": [],
   "source": []
  },
  {
   "cell_type": "code",
   "execution_count": 11,
   "id": "c7045309",
   "metadata": {},
   "outputs": [],
   "source": [
    "#2. Introduction to Data types in Python"
   ]
  },
  {
   "cell_type": "code",
   "execution_count": 12,
   "id": "dda4caa5",
   "metadata": {},
   "outputs": [
    {
     "ename": "SyntaxError",
     "evalue": "invalid syntax (Temp/ipykernel_18304/1327767602.py, line 1)",
     "output_type": "error",
     "traceback": [
      "\u001b[1;36m  File \u001b[1;32m\"C:\\Users\\574sh\\AppData\\Local\\Temp/ipykernel_18304/1327767602.py\"\u001b[1;36m, line \u001b[1;32m1\u001b[0m\n\u001b[1;33m    1. string\u001b[0m\n\u001b[1;37m       ^\u001b[0m\n\u001b[1;31mSyntaxError\u001b[0m\u001b[1;31m:\u001b[0m invalid syntax\n"
     ]
    }
   ],
   "source": [
    "1. string\n",
    "2. Number\n",
    "3. list\n",
    "4. Tuple\n",
    "5. dictionary"
   ]
  },
  {
   "cell_type": "code",
   "execution_count": null,
   "id": "df0fab00",
   "metadata": {},
   "outputs": [],
   "source": []
  },
  {
   "cell_type": "code",
   "execution_count": 13,
   "id": "74720219",
   "metadata": {},
   "outputs": [],
   "source": [
    "#classification of data types:\n",
    "#Data types are classified into two types 1)mutable data type 2)imutable data type"
   ]
  },
  {
   "cell_type": "code",
   "execution_count": 14,
   "id": "0f76d171",
   "metadata": {},
   "outputs": [],
   "source": [
    "#mutable data type: It is a flexible data type which we can alter and edit\n",
    "#imutable data type: It is a fixed data type which we can't able tp alter or edit"
   ]
  },
  {
   "cell_type": "code",
   "execution_count": null,
   "id": "11dae541",
   "metadata": {},
   "outputs": [],
   "source": []
  },
  {
   "cell_type": "code",
   "execution_count": 15,
   "id": "d37a3287",
   "metadata": {},
   "outputs": [],
   "source": [
    "#Introduction to string data type\n",
    "#Definition: String is a series of characters declared in quotes\n",
    "#classification: It is classified as imutable data type"
   ]
  },
  {
   "cell_type": "code",
   "execution_count": null,
   "id": "3482daa3",
   "metadata": {},
   "outputs": [],
   "source": [
    "#Three possible approaches\n",
    "1)single quote   Ex: name = 'shiva'\n",
    "2)Double quote   Ex: name = \"shiva\"\n",
    "3)Triple quote   Ex: name = '''shiva'''"
   ]
  }
 ],
 "metadata": {
  "kernelspec": {
   "display_name": "Python 3 (ipykernel)",
   "language": "python",
   "name": "python3"
  },
  "language_info": {
   "codemirror_mode": {
    "name": "ipython",
    "version": 3
   },
   "file_extension": ".py",
   "mimetype": "text/x-python",
   "name": "python",
   "nbconvert_exporter": "python",
   "pygments_lexer": "ipython3",
   "version": "3.9.7"
  }
 },
 "nbformat": 4,
 "nbformat_minor": 5
}
