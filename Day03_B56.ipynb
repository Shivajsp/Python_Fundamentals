{
 "cells": [
  {
   "cell_type": "code",
   "execution_count": null,
   "id": "3122c422",
   "metadata": {},
   "outputs": [],
   "source": [
    "#Introduction to String Methods"
   ]
  },
  {
   "cell_type": "code",
   "execution_count": 2,
   "id": "fb2ac8da",
   "metadata": {},
   "outputs": [],
   "source": [
    "# type-->It will be helping to validate the datatype."
   ]
  },
  {
   "cell_type": "code",
   "execution_count": 3,
   "id": "4b56aef7",
   "metadata": {},
   "outputs": [],
   "source": [
    "name = 'karthik'"
   ]
  },
  {
   "cell_type": "code",
   "execution_count": 4,
   "id": "57b7562d",
   "metadata": {},
   "outputs": [
    {
     "name": "stdout",
     "output_type": "stream",
     "text": [
      "karthik\n"
     ]
    }
   ],
   "source": [
    "print(name)"
   ]
  },
  {
   "cell_type": "code",
   "execution_count": 5,
   "id": "a52a14de",
   "metadata": {},
   "outputs": [
    {
     "data": {
      "text/plain": [
       "str"
      ]
     },
     "execution_count": 5,
     "metadata": {},
     "output_type": "execute_result"
    }
   ],
   "source": [
    "type(name)"
   ]
  },
  {
   "cell_type": "code",
   "execution_count": 6,
   "id": "f01580df",
   "metadata": {},
   "outputs": [],
   "source": [
    "full_name= \"shiva prasad\""
   ]
  },
  {
   "cell_type": "code",
   "execution_count": 8,
   "id": "48598e85",
   "metadata": {},
   "outputs": [
    {
     "name": "stdout",
     "output_type": "stream",
     "text": [
      "shiva prasad\n"
     ]
    }
   ],
   "source": [
    "print(full_name)"
   ]
  },
  {
   "cell_type": "code",
   "execution_count": 9,
   "id": "8108205e",
   "metadata": {},
   "outputs": [
    {
     "name": "stdout",
     "output_type": "stream",
     "text": [
      "Shiva Prasad\n"
     ]
    }
   ],
   "source": [
    "print(full_name.title())"
   ]
  },
  {
   "cell_type": "code",
   "execution_count": null,
   "id": "b50e0195",
   "metadata": {},
   "outputs": [],
   "source": [
    "#Requirement: I want to have full name in capital letters"
   ]
  },
  {
   "cell_type": "code",
   "execution_count": 10,
   "id": "bc8120b8",
   "metadata": {},
   "outputs": [
    {
     "name": "stdout",
     "output_type": "stream",
     "text": [
      "SHIVA PRASAD\n"
     ]
    }
   ],
   "source": [
    "print(full_name.upper())"
   ]
  },
  {
   "cell_type": "code",
   "execution_count": null,
   "id": "08e61038",
   "metadata": {},
   "outputs": [],
   "source": [
    "#Requirement: I want to have full name in small letters"
   ]
  },
  {
   "cell_type": "code",
   "execution_count": 11,
   "id": "9c9b72d9",
   "metadata": {},
   "outputs": [
    {
     "name": "stdout",
     "output_type": "stream",
     "text": [
      "shiva prasad\n"
     ]
    }
   ],
   "source": [
    "print(full_name.lower())"
   ]
  },
  {
   "cell_type": "code",
   "execution_count": null,
   "id": "a20c713f",
   "metadata": {},
   "outputs": [],
   "source": [
    "# INTRODUCTION TO f strings"
   ]
  },
  {
   "cell_type": "code",
   "execution_count": null,
   "id": "8ebb6d73",
   "metadata": {},
   "outputs": [],
   "source": [
    "#general syntax:   f\"custom words,{placeholder1}{placeholder2}.....{placeholdern}\""
   ]
  },
  {
   "cell_type": "code",
   "execution_count": 14,
   "id": "4e3a05cc",
   "metadata": {},
   "outputs": [],
   "source": [
    "firstname = \"simran\""
   ]
  },
  {
   "cell_type": "code",
   "execution_count": 15,
   "id": "f99aa5b2",
   "metadata": {},
   "outputs": [],
   "source": [
    "lastname = \"patel\""
   ]
  },
  {
   "cell_type": "code",
   "execution_count": null,
   "id": "c58402bd",
   "metadata": {},
   "outputs": [],
   "source": [
    "#Requirement: I want to get the full name"
   ]
  },
  {
   "cell_type": "code",
   "execution_count": 17,
   "id": "9aba8d97",
   "metadata": {},
   "outputs": [],
   "source": [
    "full_name= f\"{firstname} {lastname}\""
   ]
  },
  {
   "cell_type": "code",
   "execution_count": 18,
   "id": "f49aa8e5",
   "metadata": {},
   "outputs": [
    {
     "name": "stdout",
     "output_type": "stream",
     "text": [
      "simran patel\n"
     ]
    }
   ],
   "source": [
    "print(full_name)"
   ]
  },
  {
   "cell_type": "code",
   "execution_count": 19,
   "id": "6608979b",
   "metadata": {},
   "outputs": [
    {
     "name": "stdout",
     "output_type": "stream",
     "text": [
      "Simran Patel\n"
     ]
    }
   ],
   "source": [
    "print(full_name.title())"
   ]
  },
  {
   "cell_type": "code",
   "execution_count": 21,
   "id": "ec974034",
   "metadata": {},
   "outputs": [
    {
     "name": "stdout",
     "output_type": "stream",
     "text": [
      "keep up the good work,Simran Patel\n"
     ]
    }
   ],
   "source": [
    "print(f\"keep up the good work,{full_name.title()}\")"
   ]
  },
  {
   "cell_type": "code",
   "execution_count": null,
   "id": "e1ca939d",
   "metadata": {},
   "outputs": [],
   "source": [
    "#Adding whitespaces to strings"
   ]
  },
  {
   "cell_type": "code",
   "execution_count": 22,
   "id": "70010905",
   "metadata": {},
   "outputs": [
    {
     "name": "stdout",
     "output_type": "stream",
     "text": [
      "favourite_language:pythonc++javacswiftcobal\n"
     ]
    }
   ],
   "source": [
    "print(\"favourite_language:pythonc++javacswiftcobal\")"
   ]
  },
  {
   "cell_type": "code",
   "execution_count": 23,
   "id": "f8a5c3aa",
   "metadata": {},
   "outputs": [
    {
     "name": "stdout",
     "output_type": "stream",
     "text": [
      "favourite_language:\n",
      "python\n",
      "c++\n",
      "java\n",
      "c\n",
      "swift\n",
      "cobal\n"
     ]
    }
   ],
   "source": [
    "print(\"favourite_language:\\npython\\nc++\\njava\\nc\\nswift\\ncobal\")"
   ]
  },
  {
   "cell_type": "code",
   "execution_count": null,
   "id": "fa75b34c",
   "metadata": {},
   "outputs": [],
   "source": [
    "# \\n new line delimeter"
   ]
  },
  {
   "cell_type": "code",
   "execution_count": 24,
   "id": "5049fd07",
   "metadata": {},
   "outputs": [
    {
     "name": "stdout",
     "output_type": "stream",
     "text": [
      "favourite_language:\n",
      "\tpython\n",
      "\tc++\n",
      "\tjava\n",
      "\tc\n",
      "\tswift\n",
      "\tcobal\n"
     ]
    }
   ],
   "source": [
    "print(\"favourite_language:\\n\\tpython\\n\\tc++\\n\\tjava\\n\\tc\\n\\tswift\\n\\tcobal\")"
   ]
  },
  {
   "cell_type": "code",
   "execution_count": null,
   "id": "066471cc",
   "metadata": {},
   "outputs": [],
   "source": [
    "# \\t called as tab delimeter"
   ]
  },
  {
   "cell_type": "code",
   "execution_count": null,
   "id": "542e7e6a",
   "metadata": {},
   "outputs": [],
   "source": [
    "#Remove whitespaces from strings"
   ]
  },
  {
   "cell_type": "code",
   "execution_count": 28,
   "id": "aaaa815c",
   "metadata": {},
   "outputs": [],
   "source": [
    "name = 'python'"
   ]
  },
  {
   "cell_type": "code",
   "execution_count": 29,
   "id": "814297d5",
   "metadata": {},
   "outputs": [
    {
     "name": "stdout",
     "output_type": "stream",
     "text": [
      "python\n"
     ]
    }
   ],
   "source": [
    "print(name)"
   ]
  },
  {
   "cell_type": "code",
   "execution_count": 30,
   "id": "07c1eab5",
   "metadata": {},
   "outputs": [],
   "source": [
    "name2 = '   python'"
   ]
  },
  {
   "cell_type": "code",
   "execution_count": 31,
   "id": "e94ae3d4",
   "metadata": {},
   "outputs": [
    {
     "name": "stdout",
     "output_type": "stream",
     "text": [
      "   python\n"
     ]
    }
   ],
   "source": [
    "print(name2)"
   ]
  },
  {
   "cell_type": "code",
   "execution_count": 32,
   "id": "700efb56",
   "metadata": {},
   "outputs": [],
   "source": [
    "name3 = 'python       '"
   ]
  },
  {
   "cell_type": "code",
   "execution_count": 33,
   "id": "d2edacd5",
   "metadata": {},
   "outputs": [
    {
     "name": "stdout",
     "output_type": "stream",
     "text": [
      "python       \n"
     ]
    }
   ],
   "source": [
    "print(name3)"
   ]
  },
  {
   "cell_type": "code",
   "execution_count": 34,
   "id": "af23f830",
   "metadata": {},
   "outputs": [
    {
     "data": {
      "text/plain": [
       "'python'"
      ]
     },
     "execution_count": 34,
     "metadata": {},
     "output_type": "execute_result"
    }
   ],
   "source": [
    "name2.strip()"
   ]
  },
  {
   "cell_type": "code",
   "execution_count": 35,
   "id": "ee74da0c",
   "metadata": {},
   "outputs": [
    {
     "data": {
      "text/plain": [
       "'python'"
      ]
     },
     "execution_count": 35,
     "metadata": {},
     "output_type": "execute_result"
    }
   ],
   "source": [
    "name3.strip()"
   ]
  },
  {
   "cell_type": "code",
   "execution_count": null,
   "id": "2c8d2364",
   "metadata": {},
   "outputs": [],
   "source": []
  }
 ],
 "metadata": {
  "kernelspec": {
   "display_name": "Python 3 (ipykernel)",
   "language": "python",
   "name": "python3"
  },
  "language_info": {
   "codemirror_mode": {
    "name": "ipython",
    "version": 3
   },
   "file_extension": ".py",
   "mimetype": "text/x-python",
   "name": "python",
   "nbconvert_exporter": "python",
   "pygments_lexer": "ipython3",
   "version": "3.9.7"
  }
 },
 "nbformat": 4,
 "nbformat_minor": 5
}
